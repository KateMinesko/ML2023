{
 "cells": [
  {
   "cell_type": "markdown",
   "id": "c054ef00",
   "metadata": {},
   "source": [
    "# Завдання №1 \"Створення DataFrame\"\n"
   ]
  },
  {
   "cell_type": "markdown",
   "id": "48415d32",
   "metadata": {},
   "source": [
    "## Завдання №1.1\n"
   ]
  },
  {
   "cell_type": "code",
   "execution_count": 1,
   "id": "e0a0563d",
   "metadata": {},
   "outputs": [],
   "source": [
    "import pandas as pd\n",
    "import numpy as np\n"
   ]
  },
  {
   "cell_type": "code",
   "execution_count": 2,
   "id": "85b3dbe3",
   "metadata": {},
   "outputs": [
    {
     "name": "stdout",
     "output_type": "stream",
     "text": [
      "   Прості числа\n",
      "0             3\n",
      "1             6\n",
      "2             7\n",
      "3             8\n",
      "4            11\n",
      "5            12\n",
      "6            15\n",
      "7            20\n",
      "8            25\n",
      "9            33\n"
     ]
    }
   ],
   "source": [
    "prime_numbers = [3, 6, 7, 8, 11, 12, 15, 20, 25, 33]\n",
    "\n",
    "df1_1 = pd.DataFrame(prime_numbers, columns=['Прості числа'])\n",
    "print(df1_1)"
   ]
  },
  {
   "cell_type": "markdown",
   "id": "b691004b",
   "metadata": {},
   "source": [
    "## Завдання №1.2\n"
   ]
  },
  {
   "cell_type": "code",
   "execution_count": 3,
   "id": "ecde3bc8",
   "metadata": {},
   "outputs": [
    {
     "name": "stdout",
     "output_type": "stream",
     "text": [
      "          0         1         2         3         4         5\n",
      "0  0.876467  0.565318  0.528655  0.096279  0.763918  0.235798\n",
      "1  0.978633  0.714758  0.320043  0.472009  0.373729  0.029432\n",
      "2  0.123279  0.701802  0.432807  0.727084  0.716797  0.204451\n",
      "3  0.016014  0.398777  0.295240  0.088414  0.667458  0.860449\n",
      "4  0.132885  0.572105  0.500791  0.318665  0.473735  0.439848\n"
     ]
    }
   ],
   "source": [
    "random_array = np.random.rand(5, 6)\n",
    "df1_2 = pd.DataFrame(random_array)\n",
    "print(df1_2)"
   ]
  },
  {
   "cell_type": "markdown",
   "id": "82e11bd0",
   "metadata": {},
   "source": [
    "## Завдання №1.3\n"
   ]
  },
  {
   "cell_type": "code",
   "execution_count": 4,
   "id": "cc660fc3",
   "metadata": {},
   "outputs": [
    {
     "name": "stdout",
     "output_type": "stream",
     "text": [
      "     ім'я  прізвище  рік народження       телефон\n",
      "0   Петро    Петров            2000  222-222-2222\n",
      "1    Іван    Іванов            2002  333-333-3333\n",
      "2  Степан  Степанов            2001  444-444-4444\n"
     ]
    }
   ],
   "source": [
    "data = {\n",
    "    'ім\\'я': ['Петро', 'Іван', 'Степан'],\n",
    "    'прізвище': ['Петров', 'Іванов', 'Степанов'],\n",
    "    'рік народження': [2000, 2002, 2001],\n",
    "    'телефон': ['222-222-2222', '333-333-3333', '444-444-4444']\n",
    "}\n",
    "\n",
    "df = pd.DataFrame(data)\n",
    "print(df)"
   ]
  },
  {
   "cell_type": "markdown",
   "id": "061883a0",
   "metadata": {},
   "source": [
    "## Завдання №1.4\n"
   ]
  },
  {
   "cell_type": "markdown",
   "id": "e9d893f7",
   "metadata": {},
   "source": [
    "\n",
    "Завдання не можна виконати, бо посилання (https://file-examples-com.github.io/uploads/2017/02/file_example_XLS_100.xls) не працює."
   ]
  },
  {
   "cell_type": "markdown",
   "id": "f3ed3b9d",
   "metadata": {},
   "source": [
    "# Завдання №2 \"Інспектування DataFrame\"\n"
   ]
  },
  {
   "cell_type": "markdown",
   "id": "abe5d5c4",
   "metadata": {},
   "source": [
    "## Завдання №2.1\n"
   ]
  },
  {
   "cell_type": "code",
   "execution_count": 5,
   "id": "a49102ba",
   "metadata": {},
   "outputs": [],
   "source": [
    "url = \"https://raw.githubusercontent.com/datasciencedojo/datasets/master/titanic.csv\"\n",
    "titanic = pd.read_csv(url)"
   ]
  },
  {
   "cell_type": "code",
   "execution_count": 6,
   "id": "a6fd7430",
   "metadata": {},
   "outputs": [
    {
     "name": "stdout",
     "output_type": "stream",
     "text": [
      "       PassengerId    Survived      Pclass         Age       SibSp  \\\n",
      "count   891.000000  891.000000  891.000000  714.000000  891.000000   \n",
      "mean    446.000000    0.383838    2.308642   29.699118    0.523008   \n",
      "std     257.353842    0.486592    0.836071   14.526497    1.102743   \n",
      "min       1.000000    0.000000    1.000000    0.420000    0.000000   \n",
      "25%     223.500000    0.000000    2.000000   20.125000    0.000000   \n",
      "50%     446.000000    0.000000    3.000000   28.000000    0.000000   \n",
      "75%     668.500000    1.000000    3.000000   38.000000    1.000000   \n",
      "max     891.000000    1.000000    3.000000   80.000000    8.000000   \n",
      "\n",
      "            Parch        Fare  \n",
      "count  891.000000  891.000000  \n",
      "mean     0.381594   32.204208  \n",
      "std      0.806057   49.693429  \n",
      "min      0.000000    0.000000  \n",
      "25%      0.000000    7.910400  \n",
      "50%      0.000000   14.454200  \n",
      "75%      0.000000   31.000000  \n",
      "max      6.000000  512.329200  \n"
     ]
    }
   ],
   "source": [
    "url = \"https://raw.githubusercontent.com/datasciencedojo/datasets/master/titanic.csv\"\n",
    "titanic_df = pd.read_csv(url)\n",
    "print(titanic_df.describe())"
   ]
  },
  {
   "cell_type": "markdown",
   "id": "fc6476f0",
   "metadata": {},
   "source": [
    "## Завдання №2.2\n"
   ]
  },
  {
   "cell_type": "code",
   "execution_count": 7,
   "id": "3f115e56",
   "metadata": {},
   "outputs": [
    {
     "name": "stdout",
     "output_type": "stream",
     "text": [
      "Статистика по Age:\n",
      "count    714.000000\n",
      "mean      29.699118\n",
      "std       14.526497\n",
      "min        0.420000\n",
      "25%       20.125000\n",
      "50%       28.000000\n",
      "75%       38.000000\n",
      "max       80.000000\n",
      "Name: Age, dtype: float64\n",
      "\n",
      "Статистика по Fare:\n",
      "count    891.000000\n",
      "mean      32.204208\n",
      "std       49.693429\n",
      "min        0.000000\n",
      "25%        7.910400\n",
      "50%       14.454200\n",
      "75%       31.000000\n",
      "max      512.329200\n",
      "Name: Fare, dtype: float64\n"
     ]
    }
   ],
   "source": [
    "url = \"https://raw.githubusercontent.com/datasciencedojo/datasets/master/titanic.csv\"\n",
    "titanic_df = pd.read_csv(url)\n",
    "\n",
    "age_stats = titanic_df['Age'].describe()\n",
    "fare_stats = titanic_df['Fare'].describe()\n",
    "\n",
    "print(\"Статистика по Age:\")\n",
    "print(age_stats)\n",
    "\n",
    "print(\"\\nСтатистика по Fare:\")\n",
    "print(fare_stats)"
   ]
  },
  {
   "cell_type": "markdown",
   "id": "0384928f",
   "metadata": {},
   "source": [
    "## Завдання №2.3\n"
   ]
  },
  {
   "cell_type": "code",
   "execution_count": 8,
   "id": "7ba6652a",
   "metadata": {},
   "outputs": [
    {
     "name": "stdout",
     "output_type": "stream",
     "text": [
      "Кількість рядків, де заповнені усі показники: 183\n"
     ]
    }
   ],
   "source": [
    "\n",
    "url = \"https://raw.githubusercontent.com/datasciencedojo/datasets/master/titanic.csv\"\n",
    "titanic_df = pd.read_csv(url)\n",
    "\n",
    "complete_rows = titanic_df.dropna()\n",
    "num_complete_rows = len(complete_rows)\n",
    "print(\"Кількість рядків, де заповнені усі показники:\", num_complete_rows)"
   ]
  },
  {
   "cell_type": "markdown",
   "id": "f2a08f95",
   "metadata": {},
   "source": [
    "## Завдання №2.4\n"
   ]
  },
  {
   "cell_type": "code",
   "execution_count": 9,
   "id": "4696b27d",
   "metadata": {},
   "outputs": [
    {
     "name": "stdout",
     "output_type": "stream",
     "text": [
      "Кількість виживших пасажирів жіночої статі: 233\n"
     ]
    }
   ],
   "source": [
    "\n",
    "url = \"https://raw.githubusercontent.com/datasciencedojo/datasets/master/titanic.csv\"\n",
    "titanic_df = pd.read_csv(url)\n",
    "\n",
    "print(\"Кількість виживших пасажирів жіночої статі:\", titanic_df.groupby(['Survived', 'Sex']).size().loc[1,'female'])\n"
   ]
  },
  {
   "cell_type": "markdown",
   "id": "acf11a10",
   "metadata": {},
   "source": [
    "# Завдання №3 \"Перетворення датафреймів\"\n"
   ]
  },
  {
   "cell_type": "markdown",
   "id": "96e3befe",
   "metadata": {},
   "source": [
    "## Завдання №3.1\n"
   ]
  },
  {
   "cell_type": "code",
   "execution_count": 10,
   "id": "33ed5865",
   "metadata": {},
   "outputs": [
    {
     "name": "stdout",
     "output_type": "stream",
     "text": [
      "   ім'я  вік рейтинг\n",
      "0  Петя   22      10\n",
      "1  Вася  200       3\n",
      "2  Галя   21       2\n"
     ]
    }
   ],
   "source": [
    "d = {\n",
    "    \"ім'я\"    : [\"Петя\", \"Вася\", \"Галя\"],\n",
    "    \"вік\"     : [22, 200 , 21],\n",
    "    \"рейтинг\" : [\"10\", \"3\", \"2\"]\n",
    "}\n",
    "\n",
    "df = pd.DataFrame(d)\n",
    "print(df)"
   ]
  },
  {
   "cell_type": "markdown",
   "id": "741a3ff3",
   "metadata": {},
   "source": [
    "## Завдання №3.2\n"
   ]
  },
  {
   "cell_type": "code",
   "execution_count": 11,
   "id": "1ec29408",
   "metadata": {},
   "outputs": [
    {
     "name": "stdout",
     "output_type": "stream",
     "text": [
      "   ім'я  вік рейтинг  рік завершення школи\n",
      "0  Петя   22      10                  2018\n",
      "1  Вася  200       3                  2020\n",
      "2  Галя   21       2                   200\n"
     ]
    }
   ],
   "source": [
    "\n",
    "d = {\n",
    "    \"ім'я\"    : [\"Петя\", \"Вася\", \"Галя\"],\n",
    "    \"вік\"     : [22, 200 , 21],\n",
    "    \"рейтинг\" : [\"10\", \"3\", \"2\"]\n",
    "}\n",
    "df = pd.DataFrame(d)\n",
    "\n",
    "df['рік завершення школи'] = [2018, 2020, 200]\n",
    "\n",
    "print(df)"
   ]
  },
  {
   "cell_type": "markdown",
   "id": "9a5d1ea0",
   "metadata": {},
   "source": [
    "## Завдання №3.3\n"
   ]
  },
  {
   "cell_type": "code",
   "execution_count": 12,
   "id": "3942ac2d",
   "metadata": {},
   "outputs": [
    {
     "name": "stdout",
     "output_type": "stream",
     "text": [
      "   ім'я  вік рейтинг  рік завершення школи\n",
      "0  Петя   22      10                  2018\n",
      "1  Вася  200       3                  2020\n",
      "2  Галя   21       2                  2020\n"
     ]
    }
   ],
   "source": [
    "df.at[2, 'рік завершення школи'] = 2020\n",
    "print(df)"
   ]
  },
  {
   "cell_type": "markdown",
   "id": "eaefaaaa",
   "metadata": {},
   "source": [
    "## Завдання №3.4\n"
   ]
  },
  {
   "cell_type": "code",
   "execution_count": 13,
   "id": "7170a0b1",
   "metadata": {},
   "outputs": [
    {
     "name": "stdout",
     "output_type": "stream",
     "text": [
      "     PassengerId  Survived  Pclass                                      Name  \\\n",
      "881          882         0       3                        Markun, Mr. Johann   \n",
      "882          883         0       3              Dahlberg, Miss. Gerda Ulrika   \n",
      "883          884         0       2             Banfield, Mr. Frederick James   \n",
      "884          885         0       3                    Sutehall, Mr. Henry Jr   \n",
      "885          886         0       3      Rice, Mrs. William (Margaret Norton)   \n",
      "886          887         0       2                     Montvila, Rev. Juozas   \n",
      "887          888         1       1              Graham, Miss. Margaret Edith   \n",
      "888          889         0       3  Johnston, Miss. Catherine Helen \"Carrie\"   \n",
      "889          890         1       1                     Behr, Mr. Karl Howell   \n",
      "890          891         0       3                       Dooley, Mr. Patrick   \n",
      "\n",
      "        Sex   Age  SibSp  Parch            Ticket     Fare Cabin Embarked  \n",
      "881    male  33.0      0      0            349257   7.8958   NaN        S  \n",
      "882  female  22.0      0      0              7552  10.5167   NaN        S  \n",
      "883    male  28.0      0      0  C.A./SOTON 34068  10.5000   NaN        S  \n",
      "884    male  25.0      0      0   SOTON/OQ 392076   7.0500   NaN        S  \n",
      "885  female  39.0      0      5            382652  29.1250   NaN        Q  \n",
      "886    male  27.0      0      0            211536  13.0000   NaN        S  \n",
      "887  female  19.0      0      0            112053  30.0000   B42        S  \n",
      "888  female   NaN      1      2        W./C. 6607  23.4500   NaN        S  \n",
      "889    male  26.0      0      0            111369  30.0000  C148        C  \n",
      "890    male  32.0      0      0            370376   7.7500   NaN        Q  \n"
     ]
    }
   ],
   "source": [
    "url = \"https://raw.githubusercontent.com/datasciencedojo/datasets/master/titanic.csv\"\n",
    "titanic_df = pd.read_csv(url)\n",
    "\n",
    "print(titanic.tail(10))"
   ]
  },
  {
   "cell_type": "markdown",
   "id": "233f1f44",
   "metadata": {},
   "source": [
    "## Завдання №3.5\n"
   ]
  },
  {
   "cell_type": "code",
   "execution_count": 14,
   "id": "39c647e2",
   "metadata": {},
   "outputs": [
    {
     "data": {
      "text/html": [
       "<div>\n",
       "<style scoped>\n",
       "    .dataframe tbody tr th:only-of-type {\n",
       "        vertical-align: middle;\n",
       "    }\n",
       "\n",
       "    .dataframe tbody tr th {\n",
       "        vertical-align: top;\n",
       "    }\n",
       "\n",
       "    .dataframe thead th {\n",
       "        text-align: right;\n",
       "    }\n",
       "</style>\n",
       "<table border=\"1\" class=\"dataframe\">\n",
       "  <thead>\n",
       "    <tr style=\"text-align: right;\">\n",
       "      <th></th>\n",
       "      <th>PassengerId</th>\n",
       "      <th>Survived</th>\n",
       "      <th>Pclass</th>\n",
       "      <th>Name</th>\n",
       "      <th>Sex</th>\n",
       "      <th>Age</th>\n",
       "      <th>SibSp</th>\n",
       "      <th>Parch</th>\n",
       "      <th>Ticket</th>\n",
       "      <th>Fare</th>\n",
       "      <th>Cabin</th>\n",
       "      <th>Embarked</th>\n",
       "    </tr>\n",
       "  </thead>\n",
       "  <tbody>\n",
       "    <tr>\n",
       "      <th>72</th>\n",
       "      <td>73</td>\n",
       "      <td>0</td>\n",
       "      <td>2</td>\n",
       "      <td>Hood, Mr. Ambrose Jr</td>\n",
       "      <td>male</td>\n",
       "      <td>21.0</td>\n",
       "      <td>0</td>\n",
       "      <td>0</td>\n",
       "      <td>S.O.C. 14879</td>\n",
       "      <td>73.5000</td>\n",
       "      <td>NaN</td>\n",
       "      <td>S</td>\n",
       "    </tr>\n",
       "    <tr>\n",
       "      <th>117</th>\n",
       "      <td>118</td>\n",
       "      <td>0</td>\n",
       "      <td>2</td>\n",
       "      <td>Turpin, Mr. William John Robert</td>\n",
       "      <td>male</td>\n",
       "      <td>29.0</td>\n",
       "      <td>1</td>\n",
       "      <td>0</td>\n",
       "      <td>11668</td>\n",
       "      <td>21.0000</td>\n",
       "      <td>NaN</td>\n",
       "      <td>S</td>\n",
       "    </tr>\n",
       "    <tr>\n",
       "      <th>120</th>\n",
       "      <td>121</td>\n",
       "      <td>0</td>\n",
       "      <td>2</td>\n",
       "      <td>Hickman, Mr. Stanley George</td>\n",
       "      <td>male</td>\n",
       "      <td>21.0</td>\n",
       "      <td>2</td>\n",
       "      <td>0</td>\n",
       "      <td>S.O.C. 14879</td>\n",
       "      <td>73.5000</td>\n",
       "      <td>NaN</td>\n",
       "      <td>S</td>\n",
       "    </tr>\n",
       "    <tr>\n",
       "      <th>134</th>\n",
       "      <td>135</td>\n",
       "      <td>0</td>\n",
       "      <td>2</td>\n",
       "      <td>Sobey, Mr. Samuel James Hayden</td>\n",
       "      <td>male</td>\n",
       "      <td>25.0</td>\n",
       "      <td>0</td>\n",
       "      <td>0</td>\n",
       "      <td>C.A. 29178</td>\n",
       "      <td>13.0000</td>\n",
       "      <td>NaN</td>\n",
       "      <td>S</td>\n",
       "    </tr>\n",
       "    <tr>\n",
       "      <th>135</th>\n",
       "      <td>136</td>\n",
       "      <td>0</td>\n",
       "      <td>2</td>\n",
       "      <td>Richard, Mr. Emile</td>\n",
       "      <td>male</td>\n",
       "      <td>23.0</td>\n",
       "      <td>0</td>\n",
       "      <td>0</td>\n",
       "      <td>SC/PARIS 2133</td>\n",
       "      <td>15.0458</td>\n",
       "      <td>NaN</td>\n",
       "      <td>C</td>\n",
       "    </tr>\n",
       "    <tr>\n",
       "      <th>178</th>\n",
       "      <td>179</td>\n",
       "      <td>0</td>\n",
       "      <td>2</td>\n",
       "      <td>Hale, Mr. Reginald</td>\n",
       "      <td>male</td>\n",
       "      <td>30.0</td>\n",
       "      <td>0</td>\n",
       "      <td>0</td>\n",
       "      <td>250653</td>\n",
       "      <td>13.0000</td>\n",
       "      <td>NaN</td>\n",
       "      <td>S</td>\n",
       "    </tr>\n",
       "    <tr>\n",
       "      <th>213</th>\n",
       "      <td>214</td>\n",
       "      <td>0</td>\n",
       "      <td>2</td>\n",
       "      <td>Givard, Mr. Hans Kristensen</td>\n",
       "      <td>male</td>\n",
       "      <td>30.0</td>\n",
       "      <td>0</td>\n",
       "      <td>0</td>\n",
       "      <td>250646</td>\n",
       "      <td>13.0000</td>\n",
       "      <td>NaN</td>\n",
       "      <td>S</td>\n",
       "    </tr>\n",
       "    <tr>\n",
       "      <th>219</th>\n",
       "      <td>220</td>\n",
       "      <td>0</td>\n",
       "      <td>2</td>\n",
       "      <td>Harris, Mr. Walter</td>\n",
       "      <td>male</td>\n",
       "      <td>30.0</td>\n",
       "      <td>0</td>\n",
       "      <td>0</td>\n",
       "      <td>W/C 14208</td>\n",
       "      <td>10.5000</td>\n",
       "      <td>NaN</td>\n",
       "      <td>S</td>\n",
       "    </tr>\n",
       "    <tr>\n",
       "      <th>221</th>\n",
       "      <td>222</td>\n",
       "      <td>0</td>\n",
       "      <td>2</td>\n",
       "      <td>Bracken, Mr. James H</td>\n",
       "      <td>male</td>\n",
       "      <td>27.0</td>\n",
       "      <td>0</td>\n",
       "      <td>0</td>\n",
       "      <td>220367</td>\n",
       "      <td>13.0000</td>\n",
       "      <td>NaN</td>\n",
       "      <td>S</td>\n",
       "    </tr>\n",
       "    <tr>\n",
       "      <th>234</th>\n",
       "      <td>235</td>\n",
       "      <td>0</td>\n",
       "      <td>2</td>\n",
       "      <td>Leyson, Mr. Robert William Norman</td>\n",
       "      <td>male</td>\n",
       "      <td>24.0</td>\n",
       "      <td>0</td>\n",
       "      <td>0</td>\n",
       "      <td>C.A. 29566</td>\n",
       "      <td>10.5000</td>\n",
       "      <td>NaN</td>\n",
       "      <td>S</td>\n",
       "    </tr>\n",
       "    <tr>\n",
       "      <th>242</th>\n",
       "      <td>243</td>\n",
       "      <td>0</td>\n",
       "      <td>2</td>\n",
       "      <td>Coleridge, Mr. Reginald Charles</td>\n",
       "      <td>male</td>\n",
       "      <td>29.0</td>\n",
       "      <td>0</td>\n",
       "      <td>0</td>\n",
       "      <td>W./C. 14263</td>\n",
       "      <td>10.5000</td>\n",
       "      <td>NaN</td>\n",
       "      <td>S</td>\n",
       "    </tr>\n",
       "    <tr>\n",
       "      <th>308</th>\n",
       "      <td>309</td>\n",
       "      <td>0</td>\n",
       "      <td>2</td>\n",
       "      <td>Abelson, Mr. Samuel</td>\n",
       "      <td>male</td>\n",
       "      <td>30.0</td>\n",
       "      <td>1</td>\n",
       "      <td>0</td>\n",
       "      <td>P/PP 3381</td>\n",
       "      <td>24.0000</td>\n",
       "      <td>NaN</td>\n",
       "      <td>C</td>\n",
       "    </tr>\n",
       "    <tr>\n",
       "      <th>342</th>\n",
       "      <td>343</td>\n",
       "      <td>0</td>\n",
       "      <td>2</td>\n",
       "      <td>Collander, Mr. Erik Gustaf</td>\n",
       "      <td>male</td>\n",
       "      <td>28.0</td>\n",
       "      <td>0</td>\n",
       "      <td>0</td>\n",
       "      <td>248740</td>\n",
       "      <td>13.0000</td>\n",
       "      <td>NaN</td>\n",
       "      <td>S</td>\n",
       "    </tr>\n",
       "    <tr>\n",
       "      <th>343</th>\n",
       "      <td>344</td>\n",
       "      <td>0</td>\n",
       "      <td>2</td>\n",
       "      <td>Sedgwick, Mr. Charles Frederick Waddington</td>\n",
       "      <td>male</td>\n",
       "      <td>25.0</td>\n",
       "      <td>0</td>\n",
       "      <td>0</td>\n",
       "      <td>244361</td>\n",
       "      <td>13.0000</td>\n",
       "      <td>NaN</td>\n",
       "      <td>S</td>\n",
       "    </tr>\n",
       "    <tr>\n",
       "      <th>361</th>\n",
       "      <td>362</td>\n",
       "      <td>0</td>\n",
       "      <td>2</td>\n",
       "      <td>del Carlo, Mr. Sebastiano</td>\n",
       "      <td>male</td>\n",
       "      <td>29.0</td>\n",
       "      <td>1</td>\n",
       "      <td>0</td>\n",
       "      <td>SC/PARIS 2167</td>\n",
       "      <td>27.7208</td>\n",
       "      <td>NaN</td>\n",
       "      <td>C</td>\n",
       "    </tr>\n",
       "    <tr>\n",
       "      <th>398</th>\n",
       "      <td>399</td>\n",
       "      <td>0</td>\n",
       "      <td>2</td>\n",
       "      <td>Pain, Dr. Alfred</td>\n",
       "      <td>male</td>\n",
       "      <td>23.0</td>\n",
       "      <td>0</td>\n",
       "      <td>0</td>\n",
       "      <td>244278</td>\n",
       "      <td>10.5000</td>\n",
       "      <td>NaN</td>\n",
       "      <td>S</td>\n",
       "    </tr>\n",
       "    <tr>\n",
       "      <th>418</th>\n",
       "      <td>419</td>\n",
       "      <td>0</td>\n",
       "      <td>2</td>\n",
       "      <td>Matthews, Mr. William John</td>\n",
       "      <td>male</td>\n",
       "      <td>30.0</td>\n",
       "      <td>0</td>\n",
       "      <td>0</td>\n",
       "      <td>28228</td>\n",
       "      <td>13.0000</td>\n",
       "      <td>NaN</td>\n",
       "      <td>S</td>\n",
       "    </tr>\n",
       "    <tr>\n",
       "      <th>529</th>\n",
       "      <td>530</td>\n",
       "      <td>0</td>\n",
       "      <td>2</td>\n",
       "      <td>Hocking, Mr. Richard George</td>\n",
       "      <td>male</td>\n",
       "      <td>23.0</td>\n",
       "      <td>2</td>\n",
       "      <td>1</td>\n",
       "      <td>29104</td>\n",
       "      <td>11.5000</td>\n",
       "      <td>NaN</td>\n",
       "      <td>S</td>\n",
       "    </tr>\n",
       "    <tr>\n",
       "      <th>551</th>\n",
       "      <td>552</td>\n",
       "      <td>0</td>\n",
       "      <td>2</td>\n",
       "      <td>Sharp, Mr. Percival James R</td>\n",
       "      <td>male</td>\n",
       "      <td>27.0</td>\n",
       "      <td>0</td>\n",
       "      <td>0</td>\n",
       "      <td>244358</td>\n",
       "      <td>26.0000</td>\n",
       "      <td>NaN</td>\n",
       "      <td>S</td>\n",
       "    </tr>\n",
       "    <tr>\n",
       "      <th>562</th>\n",
       "      <td>563</td>\n",
       "      <td>0</td>\n",
       "      <td>2</td>\n",
       "      <td>Norman, Mr. Robert Douglas</td>\n",
       "      <td>male</td>\n",
       "      <td>28.0</td>\n",
       "      <td>0</td>\n",
       "      <td>0</td>\n",
       "      <td>218629</td>\n",
       "      <td>13.5000</td>\n",
       "      <td>NaN</td>\n",
       "      <td>S</td>\n",
       "    </tr>\n",
       "    <tr>\n",
       "      <th>619</th>\n",
       "      <td>620</td>\n",
       "      <td>0</td>\n",
       "      <td>2</td>\n",
       "      <td>Gavey, Mr. Lawrence</td>\n",
       "      <td>male</td>\n",
       "      <td>26.0</td>\n",
       "      <td>0</td>\n",
       "      <td>0</td>\n",
       "      <td>31028</td>\n",
       "      <td>10.5000</td>\n",
       "      <td>NaN</td>\n",
       "      <td>S</td>\n",
       "    </tr>\n",
       "    <tr>\n",
       "      <th>655</th>\n",
       "      <td>656</td>\n",
       "      <td>0</td>\n",
       "      <td>2</td>\n",
       "      <td>Hickman, Mr. Leonard Mark</td>\n",
       "      <td>male</td>\n",
       "      <td>24.0</td>\n",
       "      <td>2</td>\n",
       "      <td>0</td>\n",
       "      <td>S.O.C. 14879</td>\n",
       "      <td>73.5000</td>\n",
       "      <td>NaN</td>\n",
       "      <td>S</td>\n",
       "    </tr>\n",
       "    <tr>\n",
       "      <th>658</th>\n",
       "      <td>659</td>\n",
       "      <td>0</td>\n",
       "      <td>2</td>\n",
       "      <td>Eitemiller, Mr. George Floyd</td>\n",
       "      <td>male</td>\n",
       "      <td>23.0</td>\n",
       "      <td>0</td>\n",
       "      <td>0</td>\n",
       "      <td>29751</td>\n",
       "      <td>13.0000</td>\n",
       "      <td>NaN</td>\n",
       "      <td>S</td>\n",
       "    </tr>\n",
       "    <tr>\n",
       "      <th>666</th>\n",
       "      <td>667</td>\n",
       "      <td>0</td>\n",
       "      <td>2</td>\n",
       "      <td>Butler, Mr. Reginald Fenton</td>\n",
       "      <td>male</td>\n",
       "      <td>25.0</td>\n",
       "      <td>0</td>\n",
       "      <td>0</td>\n",
       "      <td>234686</td>\n",
       "      <td>13.0000</td>\n",
       "      <td>NaN</td>\n",
       "      <td>S</td>\n",
       "    </tr>\n",
       "    <tr>\n",
       "      <th>685</th>\n",
       "      <td>686</td>\n",
       "      <td>0</td>\n",
       "      <td>2</td>\n",
       "      <td>Laroche, Mr. Joseph Philippe Lemercier</td>\n",
       "      <td>male</td>\n",
       "      <td>25.0</td>\n",
       "      <td>1</td>\n",
       "      <td>2</td>\n",
       "      <td>SC/Paris 2123</td>\n",
       "      <td>41.5792</td>\n",
       "      <td>NaN</td>\n",
       "      <td>C</td>\n",
       "    </tr>\n",
       "    <tr>\n",
       "      <th>728</th>\n",
       "      <td>729</td>\n",
       "      <td>0</td>\n",
       "      <td>2</td>\n",
       "      <td>Bryhl, Mr. Kurt Arnold Gottfrid</td>\n",
       "      <td>male</td>\n",
       "      <td>25.0</td>\n",
       "      <td>1</td>\n",
       "      <td>0</td>\n",
       "      <td>236853</td>\n",
       "      <td>26.0000</td>\n",
       "      <td>NaN</td>\n",
       "      <td>S</td>\n",
       "    </tr>\n",
       "    <tr>\n",
       "      <th>733</th>\n",
       "      <td>734</td>\n",
       "      <td>0</td>\n",
       "      <td>2</td>\n",
       "      <td>Berriman, Mr. William John</td>\n",
       "      <td>male</td>\n",
       "      <td>23.0</td>\n",
       "      <td>0</td>\n",
       "      <td>0</td>\n",
       "      <td>28425</td>\n",
       "      <td>13.0000</td>\n",
       "      <td>NaN</td>\n",
       "      <td>S</td>\n",
       "    </tr>\n",
       "    <tr>\n",
       "      <th>734</th>\n",
       "      <td>735</td>\n",
       "      <td>0</td>\n",
       "      <td>2</td>\n",
       "      <td>Troupiansky, Mr. Moses Aaron</td>\n",
       "      <td>male</td>\n",
       "      <td>23.0</td>\n",
       "      <td>0</td>\n",
       "      <td>0</td>\n",
       "      <td>233639</td>\n",
       "      <td>13.0000</td>\n",
       "      <td>NaN</td>\n",
       "      <td>S</td>\n",
       "    </tr>\n",
       "    <tr>\n",
       "      <th>848</th>\n",
       "      <td>849</td>\n",
       "      <td>0</td>\n",
       "      <td>2</td>\n",
       "      <td>Harper, Rev. John</td>\n",
       "      <td>male</td>\n",
       "      <td>28.0</td>\n",
       "      <td>0</td>\n",
       "      <td>1</td>\n",
       "      <td>248727</td>\n",
       "      <td>33.0000</td>\n",
       "      <td>NaN</td>\n",
       "      <td>S</td>\n",
       "    </tr>\n",
       "    <tr>\n",
       "      <th>861</th>\n",
       "      <td>862</td>\n",
       "      <td>0</td>\n",
       "      <td>2</td>\n",
       "      <td>Giles, Mr. Frederick Edward</td>\n",
       "      <td>male</td>\n",
       "      <td>21.0</td>\n",
       "      <td>1</td>\n",
       "      <td>0</td>\n",
       "      <td>28134</td>\n",
       "      <td>11.5000</td>\n",
       "      <td>NaN</td>\n",
       "      <td>S</td>\n",
       "    </tr>\n",
       "    <tr>\n",
       "      <th>864</th>\n",
       "      <td>865</td>\n",
       "      <td>0</td>\n",
       "      <td>2</td>\n",
       "      <td>Gill, Mr. John William</td>\n",
       "      <td>male</td>\n",
       "      <td>24.0</td>\n",
       "      <td>0</td>\n",
       "      <td>0</td>\n",
       "      <td>233866</td>\n",
       "      <td>13.0000</td>\n",
       "      <td>NaN</td>\n",
       "      <td>S</td>\n",
       "    </tr>\n",
       "    <tr>\n",
       "      <th>883</th>\n",
       "      <td>884</td>\n",
       "      <td>0</td>\n",
       "      <td>2</td>\n",
       "      <td>Banfield, Mr. Frederick James</td>\n",
       "      <td>male</td>\n",
       "      <td>28.0</td>\n",
       "      <td>0</td>\n",
       "      <td>0</td>\n",
       "      <td>C.A./SOTON 34068</td>\n",
       "      <td>10.5000</td>\n",
       "      <td>NaN</td>\n",
       "      <td>S</td>\n",
       "    </tr>\n",
       "    <tr>\n",
       "      <th>886</th>\n",
       "      <td>887</td>\n",
       "      <td>0</td>\n",
       "      <td>2</td>\n",
       "      <td>Montvila, Rev. Juozas</td>\n",
       "      <td>male</td>\n",
       "      <td>27.0</td>\n",
       "      <td>0</td>\n",
       "      <td>0</td>\n",
       "      <td>211536</td>\n",
       "      <td>13.0000</td>\n",
       "      <td>NaN</td>\n",
       "      <td>S</td>\n",
       "    </tr>\n",
       "  </tbody>\n",
       "</table>\n",
       "</div>"
      ],
      "text/plain": [
       "     PassengerId  Survived  Pclass  \\\n",
       "72            73         0       2   \n",
       "117          118         0       2   \n",
       "120          121         0       2   \n",
       "134          135         0       2   \n",
       "135          136         0       2   \n",
       "178          179         0       2   \n",
       "213          214         0       2   \n",
       "219          220         0       2   \n",
       "221          222         0       2   \n",
       "234          235         0       2   \n",
       "242          243         0       2   \n",
       "308          309         0       2   \n",
       "342          343         0       2   \n",
       "343          344         0       2   \n",
       "361          362         0       2   \n",
       "398          399         0       2   \n",
       "418          419         0       2   \n",
       "529          530         0       2   \n",
       "551          552         0       2   \n",
       "562          563         0       2   \n",
       "619          620         0       2   \n",
       "655          656         0       2   \n",
       "658          659         0       2   \n",
       "666          667         0       2   \n",
       "685          686         0       2   \n",
       "728          729         0       2   \n",
       "733          734         0       2   \n",
       "734          735         0       2   \n",
       "848          849         0       2   \n",
       "861          862         0       2   \n",
       "864          865         0       2   \n",
       "883          884         0       2   \n",
       "886          887         0       2   \n",
       "\n",
       "                                           Name   Sex   Age  SibSp  Parch  \\\n",
       "72                         Hood, Mr. Ambrose Jr  male  21.0      0      0   \n",
       "117             Turpin, Mr. William John Robert  male  29.0      1      0   \n",
       "120                 Hickman, Mr. Stanley George  male  21.0      2      0   \n",
       "134              Sobey, Mr. Samuel James Hayden  male  25.0      0      0   \n",
       "135                          Richard, Mr. Emile  male  23.0      0      0   \n",
       "178                          Hale, Mr. Reginald  male  30.0      0      0   \n",
       "213                 Givard, Mr. Hans Kristensen  male  30.0      0      0   \n",
       "219                          Harris, Mr. Walter  male  30.0      0      0   \n",
       "221                        Bracken, Mr. James H  male  27.0      0      0   \n",
       "234           Leyson, Mr. Robert William Norman  male  24.0      0      0   \n",
       "242             Coleridge, Mr. Reginald Charles  male  29.0      0      0   \n",
       "308                         Abelson, Mr. Samuel  male  30.0      1      0   \n",
       "342                  Collander, Mr. Erik Gustaf  male  28.0      0      0   \n",
       "343  Sedgwick, Mr. Charles Frederick Waddington  male  25.0      0      0   \n",
       "361                   del Carlo, Mr. Sebastiano  male  29.0      1      0   \n",
       "398                            Pain, Dr. Alfred  male  23.0      0      0   \n",
       "418                  Matthews, Mr. William John  male  30.0      0      0   \n",
       "529                 Hocking, Mr. Richard George  male  23.0      2      1   \n",
       "551                 Sharp, Mr. Percival James R  male  27.0      0      0   \n",
       "562                  Norman, Mr. Robert Douglas  male  28.0      0      0   \n",
       "619                         Gavey, Mr. Lawrence  male  26.0      0      0   \n",
       "655                   Hickman, Mr. Leonard Mark  male  24.0      2      0   \n",
       "658                Eitemiller, Mr. George Floyd  male  23.0      0      0   \n",
       "666                 Butler, Mr. Reginald Fenton  male  25.0      0      0   \n",
       "685      Laroche, Mr. Joseph Philippe Lemercier  male  25.0      1      2   \n",
       "728             Bryhl, Mr. Kurt Arnold Gottfrid  male  25.0      1      0   \n",
       "733                  Berriman, Mr. William John  male  23.0      0      0   \n",
       "734                Troupiansky, Mr. Moses Aaron  male  23.0      0      0   \n",
       "848                           Harper, Rev. John  male  28.0      0      1   \n",
       "861                 Giles, Mr. Frederick Edward  male  21.0      1      0   \n",
       "864                      Gill, Mr. John William  male  24.0      0      0   \n",
       "883               Banfield, Mr. Frederick James  male  28.0      0      0   \n",
       "886                       Montvila, Rev. Juozas  male  27.0      0      0   \n",
       "\n",
       "               Ticket     Fare Cabin Embarked  \n",
       "72       S.O.C. 14879  73.5000   NaN        S  \n",
       "117             11668  21.0000   NaN        S  \n",
       "120      S.O.C. 14879  73.5000   NaN        S  \n",
       "134        C.A. 29178  13.0000   NaN        S  \n",
       "135     SC/PARIS 2133  15.0458   NaN        C  \n",
       "178            250653  13.0000   NaN        S  \n",
       "213            250646  13.0000   NaN        S  \n",
       "219         W/C 14208  10.5000   NaN        S  \n",
       "221            220367  13.0000   NaN        S  \n",
       "234        C.A. 29566  10.5000   NaN        S  \n",
       "242       W./C. 14263  10.5000   NaN        S  \n",
       "308         P/PP 3381  24.0000   NaN        C  \n",
       "342            248740  13.0000   NaN        S  \n",
       "343            244361  13.0000   NaN        S  \n",
       "361     SC/PARIS 2167  27.7208   NaN        C  \n",
       "398            244278  10.5000   NaN        S  \n",
       "418             28228  13.0000   NaN        S  \n",
       "529             29104  11.5000   NaN        S  \n",
       "551            244358  26.0000   NaN        S  \n",
       "562            218629  13.5000   NaN        S  \n",
       "619             31028  10.5000   NaN        S  \n",
       "655      S.O.C. 14879  73.5000   NaN        S  \n",
       "658             29751  13.0000   NaN        S  \n",
       "666            234686  13.0000   NaN        S  \n",
       "685     SC/Paris 2123  41.5792   NaN        C  \n",
       "728            236853  26.0000   NaN        S  \n",
       "733             28425  13.0000   NaN        S  \n",
       "734            233639  13.0000   NaN        S  \n",
       "848            248727  33.0000   NaN        S  \n",
       "861             28134  11.5000   NaN        S  \n",
       "864            233866  13.0000   NaN        S  \n",
       "883  C.A./SOTON 34068  10.5000   NaN        S  \n",
       "886            211536  13.0000   NaN        S  "
      ]
     },
     "execution_count": 14,
     "metadata": {},
     "output_type": "execute_result"
    }
   ],
   "source": [
    "url = \"https://raw.githubusercontent.com/datasciencedojo/datasets/master/titanic.csv\"\n",
    "titanic_df = pd.read_csv(url)\n",
    "\n",
    "titanic_df.loc[(titanic_df['Sex'] == 'male') & \n",
    "               (titanic_df['Age'] >= 20) & \n",
    "               (titanic_df['Age'] <= 30) & \n",
    "               (titanic_df['Pclass'] == 2)]"
   ]
  },
  {
   "cell_type": "markdown",
   "id": "eedae18a",
   "metadata": {},
   "source": [
    "## Завдання №3.6\n"
   ]
  },
  {
   "cell_type": "code",
   "execution_count": 15,
   "id": "85c2c6da",
   "metadata": {},
   "outputs": [
    {
     "name": "stdout",
     "output_type": "stream",
     "text": [
      "None\n"
     ]
    }
   ],
   "source": [
    "url = \"https://raw.githubusercontent.com/datasciencedojo/datasets/master/titanic.csv\"\n",
    "titanic_df = pd.read_csv(url)\n",
    "\n",
    "print(titanic_df.dropna(subset=['Fare'], inplace=True))"
   ]
  },
  {
   "cell_type": "markdown",
   "id": "e4488df1",
   "metadata": {},
   "source": [
    "## Завдання №3.7\n"
   ]
  },
  {
   "cell_type": "code",
   "execution_count": 16,
   "id": "699e4572",
   "metadata": {},
   "outputs": [
    {
     "name": "stdout",
     "output_type": "stream",
     "text": [
      "Середня вартість квитка у каютах 1-го класу: 84.1546875\n"
     ]
    }
   ],
   "source": [
    "url = \"https://raw.githubusercontent.com/datasciencedojo/datasets/master/titanic.csv\"\n",
    "titanic_df = pd.read_csv(url)\n",
    "\n",
    "avg_price = titanic_df.loc[titanic_df['Pclass'] == 1, 'Fare'].mean()\n",
    "print(\"Середня вартість квитка у каютах 1-го класу:\", avg_price)"
   ]
  },
  {
   "cell_type": "markdown",
   "id": "5ec350da",
   "metadata": {},
   "source": [
    "# Завдання №4 \"Агрегація датафреймів\"\n"
   ]
  },
  {
   "cell_type": "markdown",
   "id": "425742d4",
   "metadata": {},
   "source": [
    "## Завдання №4.1\n"
   ]
  },
  {
   "cell_type": "code",
   "execution_count": 17,
   "id": "26949fac",
   "metadata": {},
   "outputs": [
    {
     "name": "stdout",
     "output_type": "stream",
     "text": [
      "Sex\n",
      "female    63.0\n",
      "male      80.0\n",
      "Name: Age, dtype: float64\n"
     ]
    }
   ],
   "source": [
    "url = \"https://raw.githubusercontent.com/datasciencedojo/datasets/master/titanic.csv\"\n",
    "titanic_df = pd.read_csv(url)\n",
    "\n",
    "max_age = titanic_df.groupby('Sex')['Age'].max()\n",
    "print(max_age)"
   ]
  },
  {
   "cell_type": "markdown",
   "id": "cc10a986",
   "metadata": {},
   "source": [
    "## Завдання №4.2\n"
   ]
  },
  {
   "cell_type": "code",
   "execution_count": 19,
   "id": "0f4b5c40",
   "metadata": {},
   "outputs": [
    {
     "name": "stdout",
     "output_type": "stream",
     "text": [
      "        Female  Male\n",
      "Pclass              \n",
      "1           91    45\n",
      "2           70    17\n",
      "3           72    47\n"
     ]
    }
   ],
   "source": [
    "\n",
    "url = \"https://raw.githubusercontent.com/datasciencedojo/datasets/master/titanic.csv\"\n",
    "titanic_df = pd.read_csv(url)\n",
    "\n",
    "surv_table = titanic_df.pivot_table(index='Pclass', columns='Sex', values='Survived', aggfunc='sum')\n",
    "surv_table.columns = ['Female', 'Male']\n",
    "surv_table.index.name = 'Pclass'\n",
    "print(surv_table)"
   ]
  },
  {
   "cell_type": "code",
   "execution_count": null,
   "id": "d9d462cd",
   "metadata": {},
   "outputs": [],
   "source": []
  }
 ],
 "metadata": {
  "kernelspec": {
   "display_name": "Python 3 (ipykernel)",
   "language": "python",
   "name": "python3"
  },
  "language_info": {
   "codemirror_mode": {
    "name": "ipython",
    "version": 3
   },
   "file_extension": ".py",
   "mimetype": "text/x-python",
   "name": "python",
   "nbconvert_exporter": "python",
   "pygments_lexer": "ipython3",
   "version": "3.10.9"
  }
 },
 "nbformat": 4,
 "nbformat_minor": 5
}
