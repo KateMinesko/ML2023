{
 "cells": [
  {
   "cell_type": "markdown",
   "id": "adda99df",
   "metadata": {},
   "source": [
    "# Завдання №1"
   ]
  },
  {
   "cell_type": "markdown",
   "id": "4298e42c",
   "metadata": {},
   "source": [
    "## Завдання №1 \"Конструкції Python\""
   ]
  },
  {
   "cell_type": "code",
   "execution_count": 1,
   "id": "a4c10da2",
   "metadata": {},
   "outputs": [
    {
     "name": "stdout",
     "output_type": "stream",
     "text": [
      "Тип змінної x: <class 'int'>\n",
      "Тип змінної y: <class 'float'>\n",
      "Тип змінної s: <class 'str'>\n",
      "Тип змінної a: <class 'list'>\n",
      "Тип змінної b: <class 'bool'>\n",
      "Тип змінної t: <class 'tuple'>\n"
     ]
    }
   ],
   "source": [
    "x = 12\n",
    "y = -45.4215\n",
    "s = \"Катя\"\n",
    "a = [x, y, s]\n",
    "b = True\n",
    "t = (y, \"Студент\")\n",
    "\n",
    "print(\"Тип змінної x:\", type(x))\n",
    "print(\"Тип змінної y:\", type(y))\n",
    "print(\"Тип змінної s:\", type(s))\n",
    "print(\"Тип змінної a:\", type(a))\n",
    "print(\"Тип змінної b:\", type(b))\n",
    "print(\"Тип змінної t:\", type(t))\n"
   ]
  },
  {
   "cell_type": "code",
   "execution_count": 2,
   "id": "5ecb6031",
   "metadata": {},
   "outputs": [
    {
     "name": "stdout",
     "output_type": "stream",
     "text": [
      "-33.4215\n",
      "57.4215\n",
      "-0.2641920676331693\n",
      "-33.4215\n",
      "-545.058\n",
      "-1.0\n",
      "9.593322239278223e-50\n"
     ]
    }
   ],
   "source": [
    "print (x+y)\n",
    "print (x-y)\n",
    "print (x/y)\n",
    "print (x%y)\n",
    "print (x*y)\n",
    "print (x//y)\n",
    "print (x**y)\n"
   ]
  },
  {
   "cell_type": "code",
   "execution_count": 3,
   "id": "125d9c20",
   "metadata": {},
   "outputs": [
    {
     "name": "stdout",
     "output_type": "stream",
     "text": [
      "False\n",
      "True\n",
      "False\n",
      "True\n",
      "False\n",
      "True\n"
     ]
    }
   ],
   "source": [
    "print (x==y)\n",
    "print (x!=y)\n",
    "print (x<y)\n",
    "print (x>y)\n",
    "print (x<=y)\n",
    "print (x>=y)"
   ]
  },
  {
   "cell_type": "code",
   "execution_count": 4,
   "id": "019dfefe",
   "metadata": {},
   "outputs": [
    {
     "name": "stdout",
     "output_type": "stream",
     "text": [
      "12\n",
      "(-45.4215, 'Студент')\n",
      "12\n",
      "12.0\n",
      "-45.4215\n"
     ]
    }
   ],
   "source": [
    "print (str(x))\n",
    "print (str(t))\n",
    "print (int(x))\n",
    "#print (int(s)) помилка (str у int не перетворюється) \n",
    "print (float(x))\n",
    "print (float(y))"
   ]
  },
  {
   "cell_type": "markdown",
   "id": "37d40b8c",
   "metadata": {},
   "source": [
    "## Завдання №3 \"Введення/вивід з консолі\""
   ]
  },
  {
   "cell_type": "code",
   "execution_count": 5,
   "id": "d0f15757",
   "metadata": {},
   "outputs": [
    {
     "name": "stdout",
     "output_type": "stream",
     "text": [
      "Введіть число: 445\n"
     ]
    }
   ],
   "source": [
    "e = float(input(\"Введіть число: \"))"
   ]
  },
  {
   "cell_type": "code",
   "execution_count": 6,
   "id": "f15611b0",
   "metadata": {},
   "outputs": [
    {
     "name": "stdout",
     "output_type": "stream",
     "text": [
      "e в 5 степені = 146.1660310351\n"
     ]
    }
   ],
   "source": [
    "e = 2.71\n",
    "epower = e ** 5\n",
    "print(\"e в 5 степені =\", epower)"
   ]
  },
  {
   "cell_type": "code",
   "execution_count": 7,
   "id": "d95d3ef6",
   "metadata": {},
   "outputs": [
    {
     "name": "stdout",
     "output_type": "stream",
     "text": [
      "Катерина Мінеско\n",
      "1+1 = 2\n"
     ]
    }
   ],
   "source": [
    "name = \"Катерина\"\n",
    "surname = \"Мінеско\"\n",
    "print (name, surname)\n",
    "print(\"1+1\", 2, sep=\" = \")"
   ]
  },
  {
   "cell_type": "markdown",
   "id": "e5c4686a",
   "metadata": {},
   "source": [
    "В функції print() кома використовується для розділення різних значень, що виводяться в окремих рядках. Аргумент sep дозволяє налаштувати роздільник між цими значеннями."
   ]
  },
  {
   "cell_type": "code",
   "execution_count": 8,
   "id": "5ed57dbe",
   "metadata": {},
   "outputs": [
    {
     "name": "stdout",
     "output_type": "stream",
     "text": [
      "Катерина Мінеско - це студент\n",
      "Результат буде = 12.4\n",
      "Катерина - True дівчина!\n",
      "Мінеско Катерина\n"
     ]
    }
   ],
   "source": [
    "print(\"{} {} - це студент\".format(name, surname))\n",
    "print(\"Результат буде = {}\".format(42 / 5 + 4))\n",
    "b = True\n",
    "print(\"{} - {} дівчина!\".format(name, b))\n",
    "print(\"{} {}\".format(surname, name))"
   ]
  },
  {
   "cell_type": "markdown",
   "id": "95dd014a",
   "metadata": {},
   "source": [
    "## Завдання №4 \"Керування обчисленнями\"\n"
   ]
  },
  {
   "cell_type": "code",
   "execution_count": 11,
   "id": "c9eb2a7d",
   "metadata": {},
   "outputs": [
    {
     "name": "stdout",
     "output_type": "stream",
     "text": [
      "Введи x: 85\n",
      "85.0\n",
      "7225.0\n",
      "85.0\n"
     ]
    }
   ],
   "source": [
    "x = float(input(\"Введи x: \"))\n",
    "\n",
    "# ----- 1 ----------\n",
    "if x > 5:\n",
    "    print (x)\n",
    "    \n",
    "# ----- 2 ----------    \n",
    "if -5 < x < 5 :\n",
    "    print (x)\n",
    "else:\n",
    "    print (x ** 2)\n",
    "    \n",
    "# ----- 3 ----------\n",
    "if x > -5:\n",
    "    print (x)\n",
    "elif -5 < x < 5:\n",
    "    print (x ** 2)\n",
    "elif x > 5:\n",
    "    print (x ** (1/2))"
   ]
  },
  {
   "cell_type": "markdown",
   "id": "4c1bacd5",
   "metadata": {},
   "source": [
    "x = -20 (працює друге завдання з else);\n",
    "x = 31.5 (працюють всі завдання з if);\n",
    "x = 4 (працюють 2 останні завдання з if);\n"
   ]
  },
  {
   "cell_type": "code",
   "execution_count": 12,
   "id": "22df71c6",
   "metadata": {},
   "outputs": [
    {
     "name": "stdout",
     "output_type": "stream",
     "text": [
      "Введіть вік: 45\n",
      "студент\n"
     ]
    }
   ],
   "source": [
    "age = int(input(\"Введіть вік: \"))\n",
    "\n",
    "if age >= 17:\n",
    "    print(\"студент\")\n",
    "elif age >= 6:\n",
    "    print(\"школяр\")\n",
    "else:\n",
    "    print(\"малятко\")"
   ]
  },
  {
   "cell_type": "markdown",
   "id": "dcc115a2",
   "metadata": {},
   "source": [
    "Цей код створює цикл for по діапазону від 0 до 9; перевіряє, чи число \"i\" не є парним за допомогою операції модуля %; виводить на консоль від'ємного числа \"-i\", якщо \"i\" не є парним; виконує порожній блок коду за допомогою оператора pass, якщо \"i\" є парним; продовжує цикл до останнього елементу та повторює вказані дії."
   ]
  },
  {
   "cell_type": "code",
   "execution_count": 13,
   "id": "2f443653",
   "metadata": {},
   "outputs": [
    {
     "name": "stdout",
     "output_type": "stream",
     "text": [
      "1665\n"
     ]
    }
   ],
   "source": [
    "total = 0\n",
    "\n",
    "for i in range(10, 101):\n",
    "    if i % 3 == 0:\n",
    "        total += i\n",
    "\n",
    "print(total)"
   ]
  },
  {
   "cell_type": "code",
   "execution_count": 14,
   "id": "db63371f",
   "metadata": {},
   "outputs": [
    {
     "name": "stdout",
     "output_type": "stream",
     "text": [
      "натисніть тут: 4\n",
      "було введено\n",
      "натисніть тут: 5\n",
      "було введено\n",
      "натисніть тут: 5\n",
      "було введено\n",
      "натисніть тут: 5\n",
      "було введено\n",
      "натисніть тут: 0\n"
     ]
    }
   ],
   "source": [
    "while(input(\"натисніть тут: \") != '0'):\n",
    "    print (\"було введено\")"
   ]
  },
  {
   "cell_type": "markdown",
   "id": "2e200b29",
   "metadata": {},
   "source": [
    "Цей код запускає цикл while, який буде виконуватись, доки користувач не введе число 0 з клавіатури."
   ]
  },
  {
   "cell_type": "code",
   "execution_count": 22,
   "id": "d1244d7f",
   "metadata": {},
   "outputs": [
    {
     "name": "stdout",
     "output_type": "stream",
     "text": [
      "1665\n"
     ]
    }
   ],
   "source": [
    "i = 10\n",
    "total = 0\n",
    "\n",
    "while i <= 100:\n",
    "    if i % 3 == 0:\n",
    "        total += i\n",
    "    i += 1\n",
    "\n",
    "print(total)\n"
   ]
  },
  {
   "cell_type": "markdown",
   "id": "5f7c6af1",
   "metadata": {},
   "source": [
    "# Завдання №2"
   ]
  },
  {
   "cell_type": "markdown",
   "id": "32c46b89",
   "metadata": {},
   "source": [
    "## Завдання №1 \"Операції над списками\"\n"
   ]
  },
  {
   "cell_type": "code",
   "execution_count": 23,
   "id": "581148e1",
   "metadata": {},
   "outputs": [
    {
     "name": "stdout",
     "output_type": "stream",
     "text": [
      "2667036557696\n"
     ]
    }
   ],
   "source": [
    "i_am = []\n",
    "i_am.append('Катя')\n",
    "print(id(i_am))"
   ]
  },
  {
   "cell_type": "code",
   "execution_count": 17,
   "id": "0c9fbd7f",
   "metadata": {},
   "outputs": [
    {
     "name": "stdout",
     "output_type": "stream",
     "text": [
      "['Катя', 'Мінеско'] 2667036550848\n"
     ]
    }
   ],
   "source": [
    "i_am.append('Мінеско')\n",
    "print(i_am, id(i_am))"
   ]
  },
  {
   "cell_type": "markdown",
   "id": "6582e099",
   "metadata": {},
   "source": [
    "## Завдання №2 \"Індексація в списках\"\n"
   ]
  },
  {
   "cell_type": "code",
   "execution_count": 25,
   "id": "ead880f2",
   "metadata": {},
   "outputs": [],
   "source": [
    "my_list = [1, 2, 3, 4, 5, 6, 7, 8, 9, 10]\n"
   ]
  },
  {
   "cell_type": "code",
   "execution_count": 26,
   "id": "60be029a",
   "metadata": {},
   "outputs": [
    {
     "name": "stdout",
     "output_type": "stream",
     "text": [
      "[1, 2, 3, 4, 5]\n"
     ]
    }
   ],
   "source": [
    "print(my_list[:5])\n"
   ]
  },
  {
   "cell_type": "code",
   "execution_count": 27,
   "id": "69069f9a",
   "metadata": {},
   "outputs": [
    {
     "name": "stdout",
     "output_type": "stream",
     "text": [
      "[5, 6, 7, 8, 9, 10]\n"
     ]
    }
   ],
   "source": [
    "print(my_list[-6:])\n"
   ]
  },
  {
   "cell_type": "code",
   "execution_count": 28,
   "id": "77735c98",
   "metadata": {},
   "outputs": [
    {
     "name": "stdout",
     "output_type": "stream",
     "text": [
      "2\n",
      "4\n",
      "6\n",
      "8\n",
      "10\n"
     ]
    }
   ],
   "source": [
    "for i in my_list:\n",
    "    if i % 2 == 0:\n",
    "        print(i)\n"
   ]
  },
  {
   "cell_type": "markdown",
   "id": "48e858ca",
   "metadata": {},
   "source": [
    "## Завдання №3 \"Вкладені списки\"\n"
   ]
  },
  {
   "cell_type": "code",
   "execution_count": 29,
   "id": "a80eec61",
   "metadata": {},
   "outputs": [],
   "source": [
    "list = [[1, 2, 3], [4, 5, 6], [7, 8, 9]]\n"
   ]
  },
  {
   "cell_type": "code",
   "execution_count": 30,
   "id": "8b2ff040",
   "metadata": {},
   "outputs": [
    {
     "name": "stdout",
     "output_type": "stream",
     "text": [
      "[[1, 2, 3], [42, 5, 6], [7, 8, 9]]\n"
     ]
    }
   ],
   "source": [
    "list[1][0] = 42\n",
    "print(list)"
   ]
  },
  {
   "cell_type": "code",
   "execution_count": 31,
   "id": "e468d4d7",
   "metadata": {},
   "outputs": [
    {
     "name": "stdout",
     "output_type": "stream",
     "text": [
      "[[1, 2, 5], [42, 3, 6], [7, 8, 9]]\n"
     ]
    }
   ],
   "source": [
    "list[0][2], list[1][1] = list[1][1], list[0][2]\n",
    "print(list)"
   ]
  },
  {
   "cell_type": "markdown",
   "id": "5d174ca3",
   "metadata": {},
   "source": [
    "# Завдання №3\n"
   ]
  },
  {
   "cell_type": "markdown",
   "id": "cedc28c7",
   "metadata": {},
   "source": [
    "## Завдання №1\n"
   ]
  },
  {
   "cell_type": "code",
   "execution_count": 32,
   "id": "6041ba7c",
   "metadata": {},
   "outputs": [],
   "source": [
    "file = open('my_file.txt', 'w+')\n",
    "for i in range(1, 11):\n",
    "    file.write(f\"{i}-й рядок\\n\")\n",
    "file.close()"
   ]
  },
  {
   "cell_type": "markdown",
   "id": "a723e23a",
   "metadata": {},
   "source": [
    "## Завдання №2\n"
   ]
  },
  {
   "cell_type": "code",
   "execution_count": 33,
   "id": "5c3b89ef",
   "metadata": {},
   "outputs": [
    {
     "name": "stdout",
     "output_type": "stream",
     "text": [
      "1-й рядок\n",
      "2-й рядок\n",
      "3-й рядок\n",
      "4-й рядок\n",
      "5-й рядок\n"
     ]
    }
   ],
   "source": [
    "file = open('my_file.txt', 'r')\n",
    "for i in range(5):\n",
    "        print(file.readline().strip())\n",
    "file.close()"
   ]
  },
  {
   "cell_type": "markdown",
   "id": "c60f3937",
   "metadata": {},
   "source": [
    "## Завдання №3\n"
   ]
  },
  {
   "cell_type": "code",
   "execution_count": 34,
   "id": "3565e44f",
   "metadata": {},
   "outputs": [
    {
     "name": "stdout",
     "output_type": "stream",
     "text": [
      "1-й рядок\n",
      "2-й рядок\n",
      "3-й рядок\n",
      "4-й рядок\n",
      "5-й рядок\n"
     ]
    }
   ],
   "source": [
    "with open('my_file.txt', 'r') as file:\n",
    "    for i in range(5):\n",
    "        print(file.readline().strip())"
   ]
  },
  {
   "cell_type": "code",
   "execution_count": null,
   "id": "8ce09d10",
   "metadata": {},
   "outputs": [],
   "source": []
  }
 ],
 "metadata": {
  "kernelspec": {
   "display_name": "Python 3 (ipykernel)",
   "language": "python",
   "name": "python3"
  },
  "language_info": {
   "codemirror_mode": {
    "name": "ipython",
    "version": 3
   },
   "file_extension": ".py",
   "mimetype": "text/x-python",
   "name": "python",
   "nbconvert_exporter": "python",
   "pygments_lexer": "ipython3",
   "version": "3.10.9"
  }
 },
 "nbformat": 4,
 "nbformat_minor": 5
}
