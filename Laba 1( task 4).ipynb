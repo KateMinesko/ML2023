{
 "cells": [
  {
   "cell_type": "markdown",
   "id": "ff6d8d8d",
   "metadata": {},
   "source": [
    "# Завдання\n"
   ]
  },
  {
   "cell_type": "markdown",
   "id": "b24855ad",
   "metadata": {},
   "source": [
    "1. Використовуючи данні нижченаведеної таблиці, проаналізувати динаміку курсу долару США за 11 періодів та спрогнозувати курс долару на 12-й період на основі _логарифмічної_ _регресії_."
   ]
  },
  {
   "cell_type": "markdown",
   "id": "c4b39203",
   "metadata": {},
   "source": [
    "| Період х | 1 | 2 | 3 | 4 | 5 | 6 | 7 | 8 | 9 | 10 | 11 |\n",
    "|--------|---|---|---|---|---|---|---|---|---|----|----|\n",
    "| Курс у | 3,89 | 4,48 | 5,0 | 5,50 | 5,81 | 5,71 | 5,93 | 5,84 | 6,15 | 5,97 | 6,22 |"
   ]
  },
  {
   "cell_type": "markdown",
   "id": "e2b9966a",
   "metadata": {},
   "source": [
    "$$\\min \\sum{i=1}^{11}  (y{i}-a \\ln (x_{i})-b^2) $$\n"
   ]
  },
  {
   "cell_type": "markdown",
   "id": "79ae9fa4",
   "metadata": {},
   "source": [
    "- a,b - параметри логарифмічної регресії,\n",
    "- $\\mathbf{y_{i}}$ - курс долару для відповідного періоду $\\mathbf{x_{i}}$."
   ]
  },
  {
   "cell_type": "code",
   "execution_count": null,
   "id": "30cfb7d6",
   "metadata": {},
   "outputs": [],
   "source": []
  }
 ],
 "metadata": {
  "kernelspec": {
   "display_name": "Python 3 (ipykernel)",
   "language": "python",
   "name": "python3"
  },
  "language_info": {
   "codemirror_mode": {
    "name": "ipython",
    "version": 3
   },
   "file_extension": ".py",
   "mimetype": "text/x-python",
   "name": "python",
   "nbconvert_exporter": "python",
   "pygments_lexer": "ipython3",
   "version": "3.10.9"
  }
 },
 "nbformat": 4,
 "nbformat_minor": 5
}
