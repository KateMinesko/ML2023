{
 "cells": [
  {
   "cell_type": "markdown",
   "id": "62bdd589",
   "metadata": {},
   "source": [
    "# Завдання №1 \"Створення та інспектування np-массивів\"\n"
   ]
  },
  {
   "cell_type": "markdown",
   "id": "73eb3b01",
   "metadata": {},
   "source": [
    "## Завдання №1.1\n"
   ]
  },
  {
   "cell_type": "code",
   "execution_count": 1,
   "id": "51a29f5d",
   "metadata": {},
   "outputs": [
    {
     "name": "stdout",
     "output_type": "stream",
     "text": [
      "class:  ndarray\n",
      "shape:  (3, 4)\n",
      "strides:  (32, 8)\n",
      "itemsize:  8\n",
      "aligned:  True\n",
      "contiguous:  True\n",
      "fortran:  False\n",
      "data pointer: 0x27762dedbc0\n",
      "byteorder:  little\n",
      "byteswap:  False\n",
      "type: float64\n"
     ]
    }
   ],
   "source": [
    "import numpy as np\n",
    "\n",
    "arr1_1 = np.array([[1.2, 2.3, 3.4, 4.5],\n",
    "                   [5.6, 6.7, 7.8, 8.9],\n",
    "                   [9.0, 10.1, 11.2, 12.3]])\n",
    "\n",
    "np.info(arr1_1)"
   ]
  },
  {
   "cell_type": "code",
   "execution_count": 2,
   "id": "9c1d21b9",
   "metadata": {},
   "outputs": [
    {
     "name": "stdout",
     "output_type": "stream",
     "text": [
      "[[ 1.2  2.3  3.4  4.5]\n",
      " [ 5.6  6.7  7.8  8.9]\n",
      " [ 9.  10.1 11.2 12.3]]\n"
     ]
    }
   ],
   "source": [
    "import numpy as np\n",
    "\n",
    "arr1_1 = np.array([[1.2, 2.3, 3.4, 4.5],\n",
    "                   [5.6, 6.7, 7.8, 8.9],\n",
    "                   [9.0, 10.1, 11.2, 12.3]])\n",
    "print(arr1_1)"
   ]
  },
  {
   "cell_type": "markdown",
   "id": "edb9aa1a",
   "metadata": {},
   "source": [
    "## Завдання №1.2\n"
   ]
  },
  {
   "cell_type": "code",
   "execution_count": 3,
   "id": "554d5d07",
   "metadata": {},
   "outputs": [
    {
     "name": "stdout",
     "output_type": "stream",
     "text": [
      "['ousmane' 'robert' 'ronald' 'marc' 'jules']\n"
     ]
    }
   ],
   "source": [
    "arr1_2 = np.array(['ousmane', 'robert', 'ronald', 'marc', 'jules'])\n",
    "\n",
    "print(arr1_2)"
   ]
  },
  {
   "cell_type": "markdown",
   "id": "3600163b",
   "metadata": {},
   "source": [
    "## Завдання №1.3\n"
   ]
  },
  {
   "cell_type": "code",
   "execution_count": 4,
   "id": "88f9b0bb",
   "metadata": {},
   "outputs": [
    {
     "name": "stdout",
     "output_type": "stream",
     "text": [
      "[[1. 1. 1. 1.]\n",
      " [1. 1. 1. 1.]\n",
      " [1. 1. 1. 1.]]\n"
     ]
    }
   ],
   "source": [
    "arr1_3 = np.ones((3, 4), dtype=float)\n",
    "\n",
    "print(arr1_3)"
   ]
  },
  {
   "cell_type": "markdown",
   "id": "4d2275c6",
   "metadata": {},
   "source": [
    "# Завдання №2 \"Перетворення форми та типу массивів\"\n"
   ]
  },
  {
   "cell_type": "markdown",
   "id": "d7c3be37",
   "metadata": {},
   "source": [
    "## Завдання №2.1\n"
   ]
  },
  {
   "cell_type": "code",
   "execution_count": 5,
   "id": "18dd6649",
   "metadata": {},
   "outputs": [
    {
     "name": "stdout",
     "output_type": "stream",
     "text": [
      "[[[False False False]]\n",
      "\n",
      " [[False False False]]\n",
      "\n",
      " [[False False False]]]\n"
     ]
    }
   ],
   "source": [
    "arr2_1 = np.zeros((3, 1, 3), dtype=bool)\n",
    "\n",
    "print(arr2_1)"
   ]
  },
  {
   "cell_type": "markdown",
   "id": "de95ee5b",
   "metadata": {},
   "source": [
    "## Завдання №2.2\n"
   ]
  },
  {
   "cell_type": "code",
   "execution_count": 6,
   "id": "b2c2c302",
   "metadata": {},
   "outputs": [
    {
     "name": "stdout",
     "output_type": "stream",
     "text": [
      "[[0 0 0]\n",
      " [0 0 0]\n",
      " [0 0 0]]\n"
     ]
    }
   ],
   "source": [
    "arr2_1 = np.zeros((3, 1, 3), dtype=bool)\n",
    "arr2_2 = arr2_1.reshape(3, 3).astype(int)\n",
    "\n",
    "print(arr2_2)"
   ]
  },
  {
   "cell_type": "markdown",
   "id": "d33cc7a9",
   "metadata": {},
   "source": [
    "## Завдання №2.3\n"
   ]
  },
  {
   "cell_type": "code",
   "execution_count": 7,
   "id": "aa3e145b",
   "metadata": {},
   "outputs": [
    {
     "name": "stdout",
     "output_type": "stream",
     "text": [
      "[[10 12]\n",
      " [14 16]\n",
      " [18 20]]\n"
     ]
    }
   ],
   "source": [
    "arr2_3 = np.arange(10, 21, 2).reshape(3, 2)\n",
    "\n",
    "print(arr2_3)"
   ]
  },
  {
   "cell_type": "markdown",
   "id": "2aa198be",
   "metadata": {},
   "source": [
    "# Завдання №3 \"Доступ до елементів масива\"\n"
   ]
  },
  {
   "cell_type": "markdown",
   "id": "eb483490",
   "metadata": {},
   "source": [
    "## Завдання №3.1\n"
   ]
  },
  {
   "cell_type": "code",
   "execution_count": 8,
   "id": "f4dfa374",
   "metadata": {},
   "outputs": [
    {
     "name": "stdout",
     "output_type": "stream",
     "text": [
      "[[49.6651215  55.49182672 63.56547743 50.44812595 60.2464214 ]\n",
      " [61.66529792 52.42656319 70.18838934 72.26553991 62.7458433 ]\n",
      " [30.86165806 40.10688629 89.26584253 43.35970375 75.55107232]\n",
      " [84.00334434 42.13316293 42.78716381 53.80069406 66.43450453]]\n"
     ]
    }
   ],
   "source": [
    "average, vidh = 55, 15\n",
    "arr3_1 = np.random.normal(average, vidh, size=(4, 5))\n",
    "print(arr3_1)"
   ]
  },
  {
   "cell_type": "markdown",
   "id": "d5594288",
   "metadata": {},
   "source": [
    "## Завдання №3.2\n"
   ]
  },
  {
   "cell_type": "code",
   "execution_count": 9,
   "id": "a366e4e0",
   "metadata": {},
   "outputs": [
    {
     "name": "stdout",
     "output_type": "stream",
     "text": [
      "70.18838933566222\n"
     ]
    }
   ],
   "source": [
    "el3_2 = arr3_1[1, 2]\n",
    "print(el3_2)"
   ]
  },
  {
   "cell_type": "markdown",
   "id": "7913f4f3",
   "metadata": {},
   "source": [
    "## Завдання №3.3\n"
   ]
  },
  {
   "cell_type": "code",
   "execution_count": 10,
   "id": "a4df3bb1",
   "metadata": {},
   "outputs": [
    {
     "name": "stdout",
     "output_type": "stream",
     "text": [
      "[61.66529792 52.42656319 70.18838934 72.26553991 62.7458433 ]\n"
     ]
    }
   ],
   "source": [
    "vect3_3 = arr3_1[1]\n",
    "print(vect3_3)"
   ]
  },
  {
   "cell_type": "markdown",
   "id": "f498b403",
   "metadata": {},
   "source": [
    "## Завдання №3.4\n"
   ]
  },
  {
   "cell_type": "code",
   "execution_count": 11,
   "id": "3f3dcf7f",
   "metadata": {},
   "outputs": [
    {
     "name": "stdout",
     "output_type": "stream",
     "text": [
      "[63.56547743 70.18838934 89.26584253 42.78716381]\n"
     ]
    }
   ],
   "source": [
    "\n",
    "vect3_4 = arr3_1[:, 2]\n",
    "print(vect3_4)"
   ]
  },
  {
   "cell_type": "markdown",
   "id": "1c076fad",
   "metadata": {},
   "source": [
    "## Завдання №3.5\n"
   ]
  },
  {
   "cell_type": "code",
   "execution_count": 12,
   "id": "07abb7a8",
   "metadata": {},
   "outputs": [
    {
     "name": "stdout",
     "output_type": "stream",
     "text": [
      "[[52.42656319 70.18838934]\n",
      " [40.10688629 89.26584253]]\n"
     ]
    }
   ],
   "source": [
    "mat3_5 = arr3_1[1:3, 1:3]\n",
    "print(mat3_5)"
   ]
  },
  {
   "cell_type": "markdown",
   "id": "d7318d93",
   "metadata": {},
   "source": [
    "# Завдання №4 \"Матричні компоненти масива\"\n"
   ]
  },
  {
   "cell_type": "markdown",
   "id": "8822f0a1",
   "metadata": {},
   "source": [
    "## Завдання №4.1\n"
   ]
  },
  {
   "cell_type": "code",
   "execution_count": 13,
   "id": "28568361",
   "metadata": {},
   "outputs": [
    {
     "name": "stdout",
     "output_type": "stream",
     "text": [
      "[[187 194 184 170 103 191]\n",
      " [108 200 154 138 162 175]\n",
      " [150 144 114 179 150 189]\n",
      " [107 102 124 194 188 175]\n",
      " [125 112 148 148 166 114]\n",
      " [177 190 193 162 197 133]]\n"
     ]
    }
   ],
   "source": [
    "mat4_1 = np.random.randint(100, 201, size=(6, 6))\n",
    "print(mat4_1)\n"
   ]
  },
  {
   "cell_type": "markdown",
   "id": "5ef7b860",
   "metadata": {},
   "source": [
    "## Завдання №4.2\n"
   ]
  },
  {
   "cell_type": "code",
   "execution_count": 14,
   "id": "c465bb40",
   "metadata": {},
   "outputs": [
    {
     "name": "stdout",
     "output_type": "stream",
     "text": [
      "[187, 200, 114, 194, 166, 133]\n"
     ]
    }
   ],
   "source": [
    "diag4_2 = [mat4_1[i][i] for i in range(len(mat4_1))]\n",
    "print(diag4_2)"
   ]
  },
  {
   "cell_type": "markdown",
   "id": "fb841fae",
   "metadata": {},
   "source": [
    "## Завдання №4.3\n"
   ]
  },
  {
   "cell_type": "code",
   "execution_count": 15,
   "id": "d7024d7f",
   "metadata": {},
   "outputs": [
    {
     "name": "stdout",
     "output_type": "stream",
     "text": [
      "[[187 108 150 107 125 177]\n",
      " [194 200 144 102 112 190]\n",
      " [184 154 114 124 148 193]\n",
      " [170 138 179 194 148 162]\n",
      " [103 162 150 188 166 197]\n",
      " [191 175 189 175 114 133]]\n"
     ]
    }
   ],
   "source": [
    "trans4_3 = np.transpose(mat4_1)\n",
    "print(trans4_3)"
   ]
  },
  {
   "cell_type": "markdown",
   "id": "c84a8ff8",
   "metadata": {},
   "source": [
    "## Завдання №4.4\n"
   ]
  },
  {
   "cell_type": "code",
   "execution_count": 16,
   "id": "7d105417",
   "metadata": {},
   "outputs": [
    {
     "name": "stdout",
     "output_type": "stream",
     "text": [
      "[[-0.01027041  0.0044029   0.03799283 -0.05217389  0.06929976 -0.03578382]\n",
      " [ 0.00990624 -0.01521376 -0.03335561  0.06125039 -0.11567187  0.07174662]\n",
      " [ 0.00447406  0.0116701  -0.00303459 -0.02407034  0.05915494 -0.03650098]\n",
      " [ 0.02796137 -0.04494358 -0.07186854  0.1298413  -0.19896617  0.12080883]\n",
      " [-0.01811821  0.01463069  0.02702858 -0.04010993  0.06346962 -0.03326688]\n",
      " [-0.01419754  0.03201191  0.04899686 -0.08187861  0.13551652 -0.09226231]]\n"
     ]
    }
   ],
   "source": [
    "inv4_4 = np.linalg.inv(mat4_1)\n",
    "print(inv4_4)"
   ]
  },
  {
   "cell_type": "markdown",
   "id": "3575599b",
   "metadata": {},
   "source": [
    "# Завдання №5 \"Операції над масивами\"\n"
   ]
  },
  {
   "cell_type": "markdown",
   "id": "d85b290e",
   "metadata": {},
   "source": [
    "## Завдання №5.1\n"
   ]
  },
  {
   "cell_type": "code",
   "execution_count": 17,
   "id": "df63f570",
   "metadata": {},
   "outputs": [
    {
     "name": "stdout",
     "output_type": "stream",
     "text": [
      "Матриця:\n",
      " [[5 8 9 2]\n",
      " [8 3 4 2]\n",
      " [6 8 4 3]]\n"
     ]
    }
   ],
   "source": [
    "mat5_1 = np.random.randint(1, 10, size=(3,4))\n",
    "print(\"Матриця:\\n\", mat5_1)"
   ]
  },
  {
   "cell_type": "code",
   "execution_count": 18,
   "id": "ef189010",
   "metadata": {},
   "outputs": [
    {
     "name": "stdout",
     "output_type": "stream",
     "text": [
      "Суми елементів рядків:\n",
      " [24 17 21]\n"
     ]
    }
   ],
   "source": [
    "sum_mat5_1 = np.sum(mat5_1, axis=1)\n",
    "print(\"Суми елементів рядків:\\n\", sum_mat5_1)\n"
   ]
  },
  {
   "cell_type": "markdown",
   "id": "29eccf9f",
   "metadata": {},
   "source": [
    "## Завдання №5.2\n"
   ]
  },
  {
   "cell_type": "code",
   "execution_count": 19,
   "id": "d5ebfae4",
   "metadata": {},
   "outputs": [
    {
     "name": "stdout",
     "output_type": "stream",
     "text": [
      "17\n"
     ]
    }
   ],
   "source": [
    "min_mat5_1 = np.min(sum_mat5_1)\n",
    "print(min_mat5_1)"
   ]
  },
  {
   "cell_type": "markdown",
   "id": "9539e65a",
   "metadata": {},
   "source": [
    "## Завдання №5.3\n"
   ]
  },
  {
   "cell_type": "code",
   "execution_count": 20,
   "id": "c098e91d",
   "metadata": {},
   "outputs": [
    {
     "name": "stdout",
     "output_type": "stream",
     "text": [
      "[[105 108 109 102]\n",
      " [108 103 104 102]\n",
      " [106 108 104 103]]\n"
     ]
    }
   ],
   "source": [
    "mat5_3 = mat5_1 + 100\n",
    "print(mat5_3)"
   ]
  },
  {
   "cell_type": "markdown",
   "id": "7b12c046",
   "metadata": {},
   "source": [
    "## Завдання №5.4\n"
   ]
  },
  {
   "cell_type": "code",
   "execution_count": 21,
   "id": "79d5f180",
   "metadata": {},
   "outputs": [
    {
     "name": "stdout",
     "output_type": "stream",
     "text": [
      "[1973 1981 1773  728]\n"
     ]
    }
   ],
   "source": [
    "mat5_4 = np.dot(mat5_1.T, np.diag(mat5_3))\n",
    "print(mat5_4)"
   ]
  },
  {
   "cell_type": "markdown",
   "id": "ab580b96",
   "metadata": {},
   "source": [
    "## Завдання №5.5\n"
   ]
  },
  {
   "cell_type": "code",
   "execution_count": 22,
   "id": "c5d6616d",
   "metadata": {},
   "outputs": [
    {
     "name": "stdout",
     "output_type": "stream",
     "text": [
      "[[ 105  108  106 1973]\n",
      " [ 108  103  108 1981]\n",
      " [ 109  104  104 1773]\n",
      " [ 102  102  103  728]]\n"
     ]
    }
   ],
   "source": [
    "mat5_5 = np.hstack((mat5_3.T, mat5_4.reshape(-1, 1)))\n",
    "print(mat5_5)\n"
   ]
  },
  {
   "cell_type": "code",
   "execution_count": 23,
   "id": "5c184bc1",
   "metadata": {},
   "outputs": [
    {
     "name": "stdout",
     "output_type": "stream",
     "text": [
      "Ранг матриці:  4\n"
     ]
    }
   ],
   "source": [
    "rank = np.linalg.matrix_rank(mat5_5)\n",
    "print(\"Ранг матриці: \", rank)"
   ]
  },
  {
   "cell_type": "code",
   "execution_count": null,
   "id": "bb45ca53",
   "metadata": {},
   "outputs": [],
   "source": []
  }
 ],
 "metadata": {
  "kernelspec": {
   "display_name": "Python 3 (ipykernel)",
   "language": "python",
   "name": "python3"
  },
  "language_info": {
   "codemirror_mode": {
    "name": "ipython",
    "version": 3
   },
   "file_extension": ".py",
   "mimetype": "text/x-python",
   "name": "python",
   "nbconvert_exporter": "python",
   "pygments_lexer": "ipython3",
   "version": "3.10.9"
  }
 },
 "nbformat": 4,
 "nbformat_minor": 5
}
